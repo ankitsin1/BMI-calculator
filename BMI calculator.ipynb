{
 "cells": [
  {
   "cell_type": "code",
   "execution_count": 7,
   "id": "0b623c19",
   "metadata": {},
   "outputs": [
    {
     "name": "stdout",
     "output_type": "stream",
     "text": [
      "Enter the Height in m:1.75\n",
      "Enter the Weight in kg:80\n",
      "26\n"
     ]
    }
   ],
   "source": [
    "#BMI CALCULATOR\n",
    "height=float(input(\"Enter the Height in m:\"))\n",
    "weight=float(input(\"Enter the Weight in kg:\"))\n",
    "BMI=weight/(height**2)\n",
    "print(int(BMI))"
   ]
  }
 ],
 "metadata": {
  "kernelspec": {
   "display_name": "Python 3 (ipykernel)",
   "language": "python",
   "name": "python3"
  },
  "language_info": {
   "codemirror_mode": {
    "name": "ipython",
    "version": 3
   },
   "file_extension": ".py",
   "mimetype": "text/x-python",
   "name": "python",
   "nbconvert_exporter": "python",
   "pygments_lexer": "ipython3",
   "version": "3.9.12"
  }
 },
 "nbformat": 4,
 "nbformat_minor": 5
}
